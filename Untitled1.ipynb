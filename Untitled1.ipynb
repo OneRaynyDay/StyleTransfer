{
 "cells": [
  {
   "cell_type": "code",
   "execution_count": 2,
   "metadata": {
    "collapsed": false
   },
   "outputs": [
    {
     "name": "stdout",
     "output_type": "stream",
     "text": [
      "/Users/hongshuhong/Desktop/Computer-Science/Style Transfer/tensorflow-vgg-master/vgg19.npy\n",
      "npy file loaded\n",
      "build model started\n",
      "build model finished: 1s\n",
      "[[  8.98913921e-09   9.57606350e-09   1.18309744e-08 ...,   4.81585483e-09\n",
      "    1.08566915e-08   6.07046786e-08]\n",
      " [  6.27288728e-08   5.30094042e-07   3.69149689e-08 ...,   1.61724287e-07\n",
      "    1.11560865e-07   9.51854872e-06]]\n",
      "('Top1: ', 'n02129604 tiger, Panthera tigris', 0.82067633)\n",
      "('Top5: ', [('n02129604 tiger, Panthera tigris', 0.82067633), ('n02123159 tiger cat', 0.17819144), ('n02128925 jaguar, panther, Panthera onca, Felis onca', 0.00073031901), ('n02391049 zebra', 0.0001677422), ('n02123045 tabby, tabby cat', 5.5690634e-05)])\n",
      "('Top1: ', 'n03598930 jigsaw puzzle', 0.99511212)\n",
      "('Top5: ', [('n03598930 jigsaw puzzle', 0.99511212), ('n03929660 pick, plectrum, plectron', 0.00043721838), ('n04447861 toilet seat', 0.00040237422), ('n02786058 Band Aid', 0.00032574305), ('n04116512 rubber eraser, rubber, pencil eraser', 0.00026447288)])\n"
     ]
    }
   ],
   "source": [
    "import test_vgg19"
   ]
  },
  {
   "cell_type": "code",
   "execution_count": null,
   "metadata": {
    "collapsed": true
   },
   "outputs": [],
   "source": []
  }
 ],
 "metadata": {
  "kernelspec": {
   "display_name": "Python 3",
   "language": "python",
   "name": "python3"
  },
  "language_info": {
   "codemirror_mode": {
    "name": "ipython",
    "version": 3
   },
   "file_extension": ".py",
   "mimetype": "text/x-python",
   "name": "python",
   "nbconvert_exporter": "python",
   "pygments_lexer": "ipython3",
   "version": "3.5.3"
  }
 },
 "nbformat": 4,
 "nbformat_minor": 0
}
